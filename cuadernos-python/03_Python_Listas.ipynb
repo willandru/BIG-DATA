{
  "cells": [
    {
      "cell_type": "markdown",
      "source": [
        "<h1>Procesamiento de Datos a Gran Escala</h1>"
      ],
      "metadata": {
        "application/vnd.databricks.v1+cell": {
          "title": "",
          "showTitle": false,
          "inputWidgets": {},
          "nuid": "79586205-0213-4e86-8654-a53385ebe980"
        },
        "id": "-5cBUlC6PDnA"
      }
    },
    {
      "cell_type": "markdown",
      "source": [
        "<h2>Listas en Python</h2>"
      ],
      "metadata": {
        "application/vnd.databricks.v1+cell": {
          "title": "",
          "showTitle": false,
          "inputWidgets": {},
          "nuid": "cd31e3ba-2783-4032-8aad-0319254e18db"
        },
        "id": "bvPl34vFPDnC"
      }
    },
    {
      "cell_type": "markdown",
      "source": [
        "---\n",
        "**ID Actividad:** 03-Python-Listas\n",
        "\n",
        "**Autor:** William Gomez\n",
        "\n",
        "**Descripción:** En Python, una `lista` es una estructura de datos ordenada que puede contener elementos de cualquier tipo, incluidos números, cadenas, otras listas u objetos. Cada elemento está asociado a un `índice` entero que permite su acceso: los índices positivos comienzan en 0 y avanzan desde el primer elemento, mientras que los índices negativos comienzan en -1 y recorren la lista desde el último elemento hacia atrás. Las listas son mutables, lo que significa que su contenido puede modificarse durante la ejecución del programa.\n",
        "\n",
        "---\n"
      ],
      "metadata": {
        "id": "aUiHlfLvSLm_"
      }
    },
    {
      "cell_type": "markdown",
      "source": [
        "<p><strong>¡Bienvenido!</strong> En este cuaderno aprenderás sobre las listas en el Lenguaje de Programación Python. Al final de este laboratorio, conocerás lo básico sobre las operaciones sobre listas en Python, esto incluye la indexación, el copiado y clonación de listas.</p>"
      ],
      "metadata": {
        "application/vnd.databricks.v1+cell": {
          "title": "",
          "showTitle": false,
          "inputWidgets": {},
          "nuid": "7874d843-8660-4b61-953a-b27ed47f2b31"
        },
        "id": "DzSgLyNpPDnC"
      }
    },
    {
      "cell_type": "markdown",
      "source": [
        "<h2>Tabla de Contenido</h2>\n",
        "<div class=\"alert alert-block alert-info\" style=\"margin-top: 20px\">\n",
        "    <ul>\n",
        "        <li>\n",
        "            <a href=\"#dataset\">Acerca de los conjuntos de datos (Dataset)</a>\n",
        "        </li>\n",
        "        <li>\n",
        "            <a href=\"#list\">Listas</a>\n",
        "            <ul>\n",
        "                <li><a href=\"index\">Indexación</a></li>\n",
        "                <li><a href=\"content\">Contenido de la Lista</a></li>\n",
        "                <li><a href=\"op\">Operaciones con Listas</a></li>\n",
        "                <li><a href=\"co\">Copiado y Clonación de Listas</a></li>\n",
        "            </ul>\n",
        "        </li>\n",
        "        <li>\n",
        "            <a href=\"#quiz\">Exámen sobre Listas</a>\n",
        "        </li>\n",
        "    </ul>\n",
        "    <p>\n",
        "        Tiempo Estimado: <strong>15 min</strong>\n",
        "    </p>\n",
        "</div>\n",
        "\n",
        "<hr>"
      ],
      "metadata": {
        "application/vnd.databricks.v1+cell": {
          "title": "",
          "showTitle": false,
          "inputWidgets": {},
          "nuid": "3bbdfb73-08a2-4f2b-ad5d-4f711060d557"
        },
        "id": "ZkYFc30NPDnC"
      }
    },
    {
      "cell_type": "markdown",
      "source": [
        "<h2 id=\"list\">Listas</h2>"
      ],
      "metadata": {
        "application/vnd.databricks.v1+cell": {
          "title": "",
          "showTitle": false,
          "inputWidgets": {},
          "nuid": "e1738141-a1cf-402c-8bfc-4188fa340886"
        },
        "id": "26Z7zi3lPDnC"
      }
    },
    {
      "cell_type": "markdown",
      "source": [
        "Vamos a ver un poco mas sobre las listas en Python. Una lista es una colección ordenada de distintos objetos tales como enteros, cadenas e incluso otras listas. La dirección de cada elemento dentro de una lista se llama <b>índice</b>. El índice se usa para acceder o referirse a un objeto dentro de la lista."
      ],
      "metadata": {
        "application/vnd.databricks.v1+cell": {
          "title": "",
          "showTitle": false,
          "inputWidgets": {},
          "nuid": "7f1a9316-9609-4e47-b7a2-c5dd43fe1754"
        },
        "id": "PGktQ67rPDnC"
      }
    },
    {
      "cell_type": "markdown",
      "source": [
        "<h3 id=\"index\">Indexación</h3>"
      ],
      "metadata": {
        "application/vnd.databricks.v1+cell": {
          "title": "",
          "showTitle": false,
          "inputWidgets": {},
          "nuid": "5d76858d-7c3b-4e89-8a3c-ff5aa047e21a"
        },
        "id": "BYUe1i0rPDnC"
      }
    },
    {
      "cell_type": "markdown",
      "source": [
        "<img src=\"https://s3-api.us-geo.objectstorage.softlayer.net/cf-courses-data/CognitiveClass/PY0101EN/Chapter%202/Images/ListsIndex.png\" width=\"1000\" />"
      ],
      "metadata": {
        "application/vnd.databricks.v1+cell": {
          "title": "",
          "showTitle": false,
          "inputWidgets": {},
          "nuid": "52c20f89-9072-4ee2-b4de-b63194d1568b"
        },
        "id": "RMuCTKlOPDnD"
      }
    },
    {
      "cell_type": "markdown",
      "source": [
        "Para crear una lista, se escribe cada elemento dentro de <b>[ ]</b>, separado cada uno por comas. ¡Vamos a probar!"
      ],
      "metadata": {
        "application/vnd.databricks.v1+cell": {
          "title": "",
          "showTitle": false,
          "inputWidgets": {},
          "nuid": "79aec274-6ed0-4ad7-84e2-f3331a3cf050"
        },
        "id": "6yVKEy9yPDnD"
      }
    },
    {
      "cell_type": "code",
      "source": [
        "# Crear una lista\n",
        "\n",
        "L = [\"Michael Jackson\", 10.1, 1982]\n",
        "L"
      ],
      "metadata": {
        "application/vnd.databricks.v1+cell": {
          "title": "",
          "showTitle": false,
          "inputWidgets": {},
          "nuid": "dde309dc-4665-49c7-9d71-bea571cccc22"
        },
        "colab": {
          "base_uri": "https://localhost:8080/"
        },
        "id": "yKhiLCjkPDnD",
        "outputId": "9d5a4eaf-83a9-4649-fe96-2a9e67040782"
      },
      "outputs": [
        {
          "output_type": "execute_result",
          "data": {
            "text/plain": [
              "['Michael Jackson', 10.1, 1982]"
            ]
          },
          "metadata": {},
          "execution_count": 1
        }
      ],
      "execution_count": 1
    },
    {
      "cell_type": "markdown",
      "source": [
        "Podemos usar en una lista la indexación regular o negativa:"
      ],
      "metadata": {
        "application/vnd.databricks.v1+cell": {
          "title": "",
          "showTitle": false,
          "inputWidgets": {},
          "nuid": "c2192bac-9b53-41a7-ac78-9f6ee0931a90"
        },
        "id": "5zGsL_hGPDnE"
      }
    },
    {
      "cell_type": "markdown",
      "source": [
        "<img src=\"https://s3-api.us-geo.objectstorage.softlayer.net/cf-courses-data/CognitiveClass/PY0101EN/Chapter%202/Images/ListsNeg.png\" width=\"1000\" />"
      ],
      "metadata": {
        "application/vnd.databricks.v1+cell": {
          "title": "",
          "showTitle": false,
          "inputWidgets": {},
          "nuid": "a008138e-c6b0-492b-8612-a48413996125"
        },
        "id": "Z-MAV3nSPDnE"
      }
    },
    {
      "cell_type": "code",
      "source": [
        "# Imprime los elementos de cada índice\n",
        "\n",
        "print('the same element using negative and positive indexing:\\n Postive:',L[0],\n",
        "'\\n Negative:' , L[-3]  )\n",
        "print('the same element using negative and positive indexing:\\n Postive:',L[1],\n",
        "'\\n Negative:' , L[-2]  )\n",
        "print('the same element using negative and positive indexing:\\n Postive:',L[2],\n",
        "'\\n Negative:' , L[-1]  )"
      ],
      "metadata": {
        "application/vnd.databricks.v1+cell": {
          "title": "",
          "showTitle": false,
          "inputWidgets": {},
          "nuid": "fc240da8-3efe-4e53-8197-43c86f348f31"
        },
        "colab": {
          "base_uri": "https://localhost:8080/"
        },
        "id": "SNRH5N7hPDnE",
        "outputId": "914f9625-9101-4f43-cad9-0a4a3b8d909d"
      },
      "outputs": [
        {
          "output_type": "stream",
          "name": "stdout",
          "text": [
            "the same element using negative and positive indexing:\n",
            " Postive: Michael Jackson \n",
            " Negative: Michael Jackson\n",
            "the same element using negative and positive indexing:\n",
            " Postive: 10.1 \n",
            " Negative: 10.1\n",
            "the same element using negative and positive indexing:\n",
            " Postive: 1982 \n",
            " Negative: 1982\n"
          ]
        }
      ],
      "execution_count": 2
    },
    {
      "cell_type": "markdown",
      "source": [
        "<h3 id=\"content\">Contenido de la Lista</h3>"
      ],
      "metadata": {
        "application/vnd.databricks.v1+cell": {
          "title": "",
          "showTitle": false,
          "inputWidgets": {},
          "nuid": "67a71dc3-04ae-4b89-a80b-ee5e9b29e885"
        },
        "id": "Ae5XFmn4PDnE"
      }
    },
    {
      "cell_type": "markdown",
      "source": [
        "Las listas pueden contener cadenas, números enteros y en punto flotante. Podemos anidar otras listas y además tuplas u otros tipos de estructuras de datos. Para el anidado se siguen las mismas reglas:"
      ],
      "metadata": {
        "application/vnd.databricks.v1+cell": {
          "title": "",
          "showTitle": false,
          "inputWidgets": {},
          "nuid": "a5795f1e-5d83-4611-bea1-d68238da3f43"
        },
        "id": "XUrRW3UlPDnE"
      }
    },
    {
      "cell_type": "code",
      "source": [
        "# Lista de ejemplo\n",
        "\n",
        "[\"Michael Jackson\", 10.1, 1982, [1, 2], (\"A\", 1)]"
      ],
      "metadata": {
        "application/vnd.databricks.v1+cell": {
          "title": "",
          "showTitle": false,
          "inputWidgets": {},
          "nuid": "dc4f74f8-2289-4597-a7cf-641558c63784"
        },
        "colab": {
          "base_uri": "https://localhost:8080/"
        },
        "id": "oLTqogL6PDnE",
        "outputId": "ef02c2f7-829d-45ac-d91c-9e555bd5df19"
      },
      "outputs": [
        {
          "output_type": "execute_result",
          "data": {
            "text/plain": [
              "['Michael Jackson', 10.1, 1982, [1, 2], ('A', 1)]"
            ]
          },
          "metadata": {},
          "execution_count": 3
        }
      ],
      "execution_count": 3
    },
    {
      "cell_type": "markdown",
      "source": [
        "<h3 id=\"op\">Operaciones con Listas</h3>"
      ],
      "metadata": {
        "application/vnd.databricks.v1+cell": {
          "title": "",
          "showTitle": false,
          "inputWidgets": {},
          "nuid": "e6a96f2e-244e-4801-a18d-58588cfc7dc4"
        },
        "id": "Eu9rsKNoPDnE"
      }
    },
    {
      "cell_type": "markdown",
      "source": [
        "También podemos aplicar el slicing en las listas. Por ejemplo, si queremos obtener los últimos dos elementos, usamos el siguiente comando:"
      ],
      "metadata": {
        "application/vnd.databricks.v1+cell": {
          "title": "",
          "showTitle": false,
          "inputWidgets": {},
          "nuid": "36d14f6c-c547-4113-ba1b-815dd0e09604"
        },
        "id": "dPq6_75MPDnE"
      }
    },
    {
      "cell_type": "code",
      "source": [
        "# Lista de ejemplo\n",
        "\n",
        "L = [\"Michael Jackson\", 10.1,1982,\"MJ\",1]\n",
        "L"
      ],
      "metadata": {
        "application/vnd.databricks.v1+cell": {
          "title": "",
          "showTitle": false,
          "inputWidgets": {},
          "nuid": "77064762-f060-42cc-8c45-22b7d3f3ae34"
        },
        "colab": {
          "base_uri": "https://localhost:8080/"
        },
        "id": "fiLMGT7YPDnE",
        "outputId": "a164a3f3-83ac-4dd3-d159-a1c96c0143e7"
      },
      "outputs": [
        {
          "output_type": "execute_result",
          "data": {
            "text/plain": [
              "['Michael Jackson', 10.1, 1982, 'MJ', 1]"
            ]
          },
          "metadata": {},
          "execution_count": 4
        }
      ],
      "execution_count": 4
    },
    {
      "cell_type": "markdown",
      "source": [
        "<img src=\"https://s3-api.us-geo.objectstorage.softlayer.net/cf-courses-data/CognitiveClass/PY0101EN/Chapter%202/Images/ListsSlice.png\" width=\"1000\">"
      ],
      "metadata": {
        "application/vnd.databricks.v1+cell": {
          "title": "",
          "showTitle": false,
          "inputWidgets": {},
          "nuid": "ac2561c5-2bfe-4f3d-a6f9-4728e6522211"
        },
        "id": "tbw7AAJBPDnE"
      }
    },
    {
      "cell_type": "code",
      "source": [
        "# Slicing en una lista\n",
        "\n",
        "L[3:5]"
      ],
      "metadata": {
        "application/vnd.databricks.v1+cell": {
          "title": "",
          "showTitle": false,
          "inputWidgets": {},
          "nuid": "ec5b39d9-a384-4e68-ab5b-b7c4baa0b834"
        },
        "colab": {
          "base_uri": "https://localhost:8080/"
        },
        "id": "QXOa8_6rPDnF",
        "outputId": "788a6224-18b7-4028-f385-61b8fe805af5"
      },
      "outputs": [
        {
          "output_type": "execute_result",
          "data": {
            "text/plain": [
              "['MJ', 1]"
            ]
          },
          "metadata": {},
          "execution_count": 5
        }
      ],
      "execution_count": 5
    },
    {
      "cell_type": "markdown",
      "source": [
        "Podemos usar el método <code>extend</code> para añadir elementos a la lista:"
      ],
      "metadata": {
        "application/vnd.databricks.v1+cell": {
          "title": "",
          "showTitle": false,
          "inputWidgets": {},
          "nuid": "840f108e-bacb-4ebb-b1d0-9a29802bd4d8"
        },
        "id": "_yBy9-8lPDnG"
      }
    },
    {
      "cell_type": "code",
      "source": [
        "# Aplica el método extend para añadir elementos\n",
        "\n",
        "L = [ \"Michael Jackson\", 10.2]\n",
        "L.extend(['pop', 10])\n",
        "L"
      ],
      "metadata": {
        "application/vnd.databricks.v1+cell": {
          "title": "",
          "showTitle": false,
          "inputWidgets": {},
          "nuid": "ba176860-76c9-4a2a-b635-201f1b572a0e"
        },
        "colab": {
          "base_uri": "https://localhost:8080/"
        },
        "id": "t0fpuHhMPDnG",
        "outputId": "bb367d23-8e2a-4f63-9a20-12b474f66ebd"
      },
      "outputs": [
        {
          "output_type": "execute_result",
          "data": {
            "text/plain": [
              "['Michael Jackson', 10.2, 'pop', 10]"
            ]
          },
          "metadata": {},
          "execution_count": 6
        }
      ],
      "execution_count": 6
    },
    {
      "cell_type": "markdown",
      "source": [
        "Otro método similar es <code>append</code>. Si usamos <code>append</code> en vez de <code>extend</code>, añadimos un elemento a a la lista:"
      ],
      "metadata": {
        "application/vnd.databricks.v1+cell": {
          "title": "",
          "showTitle": false,
          "inputWidgets": {},
          "nuid": "e14c4fac-8121-4e54-89d4-33ee43b1f2bc"
        },
        "id": "TYbp9bdlPDnG"
      }
    },
    {
      "cell_type": "code",
      "source": [
        "# Aplica el método append para añadir elementos\n",
        "\n",
        "L = [ \"Michael Jackson\", 10.2]\n",
        "L.append(['pop', 10])\n",
        "L"
      ],
      "metadata": {
        "application/vnd.databricks.v1+cell": {
          "title": "",
          "showTitle": false,
          "inputWidgets": {},
          "nuid": "f55ab3a7-5237-4390-b7a7-975af4fd5fd2"
        },
        "colab": {
          "base_uri": "https://localhost:8080/"
        },
        "id": "BgaP-B-dPDnG",
        "outputId": "bf5514de-6a2d-434d-85c7-555994878dc5"
      },
      "outputs": [
        {
          "output_type": "execute_result",
          "data": {
            "text/plain": [
              "['Michael Jackson', 10.2, ['pop', 10]]"
            ]
          },
          "metadata": {},
          "execution_count": 7
        }
      ],
      "execution_count": 7
    },
    {
      "cell_type": "markdown",
      "source": [
        "Cada vez que un método es aplicado, la lista cambia. Al usar <code>extend</code> estamos añadiendo dos nuevos elementos. La lista <code>L</code> es entonces modificada con dos nuevos elementos."
      ],
      "metadata": {
        "application/vnd.databricks.v1+cell": {
          "title": "",
          "showTitle": false,
          "inputWidgets": {},
          "nuid": "3dee19c9-0b6c-4daf-bf86-3c1a07c45fb6"
        },
        "id": "7rbi3HVzPDnG"
      }
    },
    {
      "cell_type": "code",
      "source": [
        "# Aplica el método extend para añadir elementos\n",
        "\n",
        "L = [ \"Michael Jackson\", 10.2]\n",
        "L.extend(['pop', 10])\n",
        "L"
      ],
      "metadata": {
        "application/vnd.databricks.v1+cell": {
          "title": "",
          "showTitle": false,
          "inputWidgets": {},
          "nuid": "54ec3596-95a8-4922-87c3-999606521446"
        },
        "colab": {
          "base_uri": "https://localhost:8080/"
        },
        "id": "lFqxNDLtPDnG",
        "outputId": "eff4eeab-e9ae-4e27-fd5e-597995f39c67"
      },
      "outputs": [
        {
          "output_type": "execute_result",
          "data": {
            "text/plain": [
              "['Michael Jackson', 10.2, 'pop', 10]"
            ]
          },
          "metadata": {},
          "execution_count": 8
        }
      ],
      "execution_count": 8
    },
    {
      "cell_type": "markdown",
      "source": [
        "Si añadimos a la lista <code>['a','b']</code> tendremos un nuevo elemento conformado por una lista anidada:"
      ],
      "metadata": {
        "application/vnd.databricks.v1+cell": {
          "title": "",
          "showTitle": false,
          "inputWidgets": {},
          "nuid": "3b046001-0285-4e00-b224-05fe1e5a8e3c"
        },
        "id": "EGRKJK0APDnG"
      }
    },
    {
      "cell_type": "code",
      "source": [
        "# Aplica el método append para añadir elementos\n",
        "\n",
        "L.append(['a','b'])\n",
        "L"
      ],
      "metadata": {
        "application/vnd.databricks.v1+cell": {
          "title": "",
          "showTitle": false,
          "inputWidgets": {},
          "nuid": "c08d39ad-c82c-44fc-8afe-5e6e10a63afc"
        },
        "colab": {
          "base_uri": "https://localhost:8080/"
        },
        "id": "pH1fRV_IPDnG",
        "outputId": "ce3fc127-4064-4e7b-85d2-505f43ba5b90"
      },
      "outputs": [
        {
          "output_type": "execute_result",
          "data": {
            "text/plain": [
              "['Michael Jackson', 10.2, 'pop', 10, ['a', 'b']]"
            ]
          },
          "metadata": {},
          "execution_count": 9
        }
      ],
      "execution_count": 9
    },
    {
      "cell_type": "markdown",
      "source": [
        "Las listas son estructuras que pueden cambiar con el tiempo. Por ejemplo, cambiemos el primer elemento de una lista de la siguiente manera:"
      ],
      "metadata": {
        "application/vnd.databricks.v1+cell": {
          "title": "",
          "showTitle": false,
          "inputWidgets": {},
          "nuid": "68641ebd-e43c-4cce-b03c-52fb4930dc37"
        },
        "id": "rKamtnSJPDnG"
      }
    },
    {
      "cell_type": "code",
      "source": [
        "# Cambia el elemento usando el índice\n",
        "\n",
        "A = [\"disco\", 10, 1.2]\n",
        "print('Before change:', A)\n",
        "A[0] = 'hard rock'\n",
        "print('After change:', A)"
      ],
      "metadata": {
        "application/vnd.databricks.v1+cell": {
          "title": "",
          "showTitle": false,
          "inputWidgets": {},
          "nuid": "df3c87f5-146a-4883-91c6-2cd97c02c745"
        },
        "colab": {
          "base_uri": "https://localhost:8080/"
        },
        "id": "rSGiE5yZPDnG",
        "outputId": "bc39e155-c287-4f8d-dd98-051691980539"
      },
      "outputs": [
        {
          "output_type": "stream",
          "name": "stdout",
          "text": [
            "Before change: ['disco', 10, 1.2]\n",
            "After change: ['hard rock', 10, 1.2]\n"
          ]
        }
      ],
      "execution_count": 10
    },
    {
      "cell_type": "markdown",
      "source": [
        "Para borrar un elemento de la lista, usamos el comando <code>del</code>:"
      ],
      "metadata": {
        "application/vnd.databricks.v1+cell": {
          "title": "",
          "showTitle": false,
          "inputWidgets": {},
          "nuid": "226e5f01-6019-4acf-bed0-8065de5540e7"
        },
        "id": "9Ng2800mPDnG"
      }
    },
    {
      "cell_type": "code",
      "source": [
        "# Borra el elemento usando el índice\n",
        "\n",
        "print('Before change:', A)\n",
        "del(A[0])\n",
        "print('After change:', A)"
      ],
      "metadata": {
        "application/vnd.databricks.v1+cell": {
          "title": "",
          "showTitle": false,
          "inputWidgets": {},
          "nuid": "6c3fd0f7-d69f-44e2-9102-b13f130465cd"
        },
        "colab": {
          "base_uri": "https://localhost:8080/"
        },
        "id": "DD1SFOA2PDnG",
        "outputId": "2736ad76-4842-4c9d-8641-815215fe12fe"
      },
      "outputs": [
        {
          "output_type": "stream",
          "name": "stdout",
          "text": [
            "Before change: ['hard rock', 10, 1.2]\n",
            "After change: [10, 1.2]\n"
          ]
        }
      ],
      "execution_count": 11
    },
    {
      "cell_type": "markdown",
      "source": [
        "Podemos transformar una cadena en una lista con <code>split</code>. Por ejemplo, el método <code>split</code> convierte cada grupo de caracteres separados por un espacio en blanco, en un elemento de la lista:"
      ],
      "metadata": {
        "application/vnd.databricks.v1+cell": {
          "title": "",
          "showTitle": false,
          "inputWidgets": {},
          "nuid": "76b9967f-c656-4b5f-b9a4-31a7a65c121a"
        },
        "id": "kPWo0g0FPDnG"
      }
    },
    {
      "cell_type": "code",
      "source": [
        "# Divide la cadena\n",
        "\n",
        "'hard rock'.split()"
      ],
      "metadata": {
        "application/vnd.databricks.v1+cell": {
          "title": "",
          "showTitle": false,
          "inputWidgets": {},
          "nuid": "0f57adac-4c39-438b-bc19-e5c98e8fd03f"
        },
        "colab": {
          "base_uri": "https://localhost:8080/"
        },
        "id": "BfNcKOaxPDnG",
        "outputId": "a04f28fe-4507-49c8-dc51-f559674878a8"
      },
      "outputs": [
        {
          "output_type": "execute_result",
          "data": {
            "text/plain": [
              "['hard', 'rock']"
            ]
          },
          "metadata": {},
          "execution_count": 12
        }
      ],
      "execution_count": 12
    },
    {
      "cell_type": "markdown",
      "source": [
        "Podemos utilizar la función split para separar distintas cadenas usando algún carácter especifico. Pasamos en el argumento el carácter que queremos usar como separador, en este caso será una coma. El resultado es una lista, y cada elemento corresponderá a un grupo de caracteres separados por una coma:"
      ],
      "metadata": {
        "application/vnd.databricks.v1+cell": {
          "title": "",
          "showTitle": false,
          "inputWidgets": {},
          "nuid": "3447b9c8-5a18-405e-984c-76f0cb7dce2e"
        },
        "id": "9MNPmKFmPDnH"
      }
    },
    {
      "cell_type": "code",
      "source": [
        "# Separa la cadena usando comas\n",
        "\n",
        "'A,B,C,D'.split(',')"
      ],
      "metadata": {
        "application/vnd.databricks.v1+cell": {
          "title": "",
          "showTitle": false,
          "inputWidgets": {},
          "nuid": "17f24008-7e8f-4878-a2e8-12bda40c5bae"
        },
        "colab": {
          "base_uri": "https://localhost:8080/"
        },
        "id": "uMFhfTnrPDnH",
        "outputId": "653d33c7-415b-4780-c120-09fbd6f8d8b9"
      },
      "outputs": [
        {
          "output_type": "execute_result",
          "data": {
            "text/plain": [
              "['A', 'B', 'C', 'D']"
            ]
          },
          "metadata": {},
          "execution_count": 13
        }
      ],
      "execution_count": 13
    },
    {
      "cell_type": "markdown",
      "source": [
        "<h3 id=\"co\">Copiado y Clonación de Listas</h3>"
      ],
      "metadata": {
        "application/vnd.databricks.v1+cell": {
          "title": "",
          "showTitle": false,
          "inputWidgets": {},
          "nuid": "67551bdc-72b7-48a8-ad90-ce30f9aef963"
        },
        "id": "rxvAufG0PDnH"
      }
    },
    {
      "cell_type": "markdown",
      "source": [
        "Cuando asignamos el valor de la variable <b>B</b> igual a <b>A</b>; ambas están haciendo referencia a la misma lista guardada en memoria:"
      ],
      "metadata": {
        "application/vnd.databricks.v1+cell": {
          "title": "",
          "showTitle": false,
          "inputWidgets": {},
          "nuid": "16e9d2c7-366e-4cbd-b402-399f5938f5f9"
        },
        "id": "MroSldojPDnH"
      }
    },
    {
      "cell_type": "code",
      "source": [
        "# Copiar (por referencia) la lista A\n",
        "\n",
        "A = [\"hard rock\", 10, 1.2]\n",
        "B = A\n",
        "print('A:', A)\n",
        "print('B:', B)"
      ],
      "metadata": {
        "application/vnd.databricks.v1+cell": {
          "title": "",
          "showTitle": false,
          "inputWidgets": {},
          "nuid": "b5901fe9-35cd-4047-be92-85653e557d4a"
        },
        "colab": {
          "base_uri": "https://localhost:8080/"
        },
        "id": "ls7R95JJPDnH",
        "outputId": "c5928a7d-9398-4b6f-9869-cedb2029a2e4"
      },
      "outputs": [
        {
          "output_type": "stream",
          "name": "stdout",
          "text": [
            "A: ['hard rock', 10, 1.2]\n",
            "B: ['hard rock', 10, 1.2]\n"
          ]
        }
      ],
      "execution_count": 14
    },
    {
      "cell_type": "markdown",
      "source": [
        "<img src=\"https://s3-api.us-geo.objectstorage.softlayer.net/cf-courses-data/CognitiveClass/PY0101EN/Chapter%202/Images/ListsRef.png\" width=\"1000\" align=\"center\">"
      ],
      "metadata": {
        "application/vnd.databricks.v1+cell": {
          "title": "",
          "showTitle": false,
          "inputWidgets": {},
          "nuid": "d66254c6-956b-4834-9de4-949c412a8f67"
        },
        "id": "7QkGNpKePDnH"
      }
    },
    {
      "cell_type": "markdown",
      "source": [
        "En un principio, el valor del primer elemento en <b>B</b> es asignado como hard rock. Si modificamos el primer elemento en <b>A</b> por <b>banana</b>, obtendremos un efecto inesperado. Debido a que <b>A</b> y <b>B</b> hacen referencia a la mima lista, si cambiamos <b>A</b>, entonces cambiamos también a <b>B</b>. Al revisar el primer elemento de <b>B</b> veremos banana en vez de hard rock:"
      ],
      "metadata": {
        "application/vnd.databricks.v1+cell": {
          "title": "",
          "showTitle": false,
          "inputWidgets": {},
          "nuid": "77d2bd70-2753-48c3-960d-e06936bc1395"
        },
        "id": "EuMkhflZPDnH"
      }
    },
    {
      "cell_type": "code",
      "source": [
        "# Examinar la copia hecha por referencia\n",
        "\n",
        "print('B[0]:', B[0])\n",
        "A[0] = \"banana\"\n",
        "print('B[0]:', B[0])"
      ],
      "metadata": {
        "application/vnd.databricks.v1+cell": {
          "title": "",
          "showTitle": false,
          "inputWidgets": {},
          "nuid": "588651ff-2bae-4706-a1cb-c0f4c74b8591"
        },
        "colab": {
          "base_uri": "https://localhost:8080/"
        },
        "id": "ZRb8YzaSPDnH",
        "outputId": "3c6d2af5-dc69-459e-f200-39fe76a1ced2"
      },
      "outputs": [
        {
          "output_type": "stream",
          "name": "stdout",
          "text": [
            "B[0]: hard rock\n",
            "B[0]: banana\n"
          ]
        }
      ],
      "execution_count": 15
    },
    {
      "cell_type": "markdown",
      "source": [
        "Se muestra esto en la siguiente imagen:"
      ],
      "metadata": {
        "application/vnd.databricks.v1+cell": {
          "title": "",
          "showTitle": false,
          "inputWidgets": {},
          "nuid": "5b166d82-a8cf-48d5-bd62-f69a6a347dde"
        },
        "id": "I4dJqjZXPDnH"
      }
    },
    {
      "cell_type": "markdown",
      "source": [
        "<img src = \"https://s3-api.us-geo.objectstorage.softlayer.net/cf-courses-data/CognitiveClass/PY0101EN/Chapter%202/Images/ListsRefGif.gif\" width=\"1000\" />"
      ],
      "metadata": {
        "application/vnd.databricks.v1+cell": {
          "title": "",
          "showTitle": false,
          "inputWidgets": {},
          "nuid": "36909e50-1ad4-432b-a65d-401f42389219"
        },
        "id": "JFIJ9SarPDnI"
      }
    },
    {
      "cell_type": "markdown",
      "source": [
        "Se puede clonar la lista **A** haciendo uso de la siguiente sintaxis:"
      ],
      "metadata": {
        "application/vnd.databricks.v1+cell": {
          "title": "",
          "showTitle": false,
          "inputWidgets": {},
          "nuid": "c3238e64-fba3-47ff-9ee8-583ebd2a785a"
        },
        "id": "1amznNbtPDnI"
      }
    },
    {
      "cell_type": "code",
      "source": [
        "# Clonar la lista A\n",
        "\n",
        "B = A[:]\n",
        "B"
      ],
      "metadata": {
        "application/vnd.databricks.v1+cell": {
          "title": "",
          "showTitle": false,
          "inputWidgets": {},
          "nuid": "a1bbb9c4-42a2-4937-b5a7-f335a71d71fd"
        },
        "colab": {
          "base_uri": "https://localhost:8080/"
        },
        "id": "Mh3ftMr0PDnI",
        "outputId": "74934337-abcc-4bcb-ff33-438c156e64cc"
      },
      "outputs": [
        {
          "output_type": "execute_result",
          "data": {
            "text/plain": [
              "['banana', 10, 1.2]"
            ]
          },
          "metadata": {},
          "execution_count": 16
        }
      ],
      "execution_count": 16
    },
    {
      "cell_type": "markdown",
      "source": [
        "La variable **B** es una copia o clon por valor de la lista original; esto se puede demostrar en la siguiente imagen:"
      ],
      "metadata": {
        "application/vnd.databricks.v1+cell": {
          "title": "",
          "showTitle": false,
          "inputWidgets": {},
          "nuid": "67439e3d-8dd0-4448-a3d2-5404ffcc9bd7"
        },
        "id": "KCvyqp9gPDnI"
      }
    },
    {
      "cell_type": "markdown",
      "source": [
        "<img src=\"https://s3-api.us-geo.objectstorage.softlayer.net/cf-courses-data/CognitiveClass/PY0101EN/Chapter%202/Images/ListsVal.gif\" width=\"1000\" />"
      ],
      "metadata": {
        "application/vnd.databricks.v1+cell": {
          "title": "",
          "showTitle": false,
          "inputWidgets": {},
          "nuid": "47b7ab3c-950d-4a06-8b05-8826da861d11"
        },
        "id": "0VEY_SGyPDnI"
      }
    },
    {
      "cell_type": "markdown",
      "source": [
        "Ahora cualquier cambio en <b>A<b/>, no será aplicado a <b>B</b>:"
      ],
      "metadata": {
        "application/vnd.databricks.v1+cell": {
          "title": "",
          "showTitle": false,
          "inputWidgets": {},
          "nuid": "4221c2cb-3981-4be4-8606-c01fc286c8cb"
        },
        "id": "F_Zke6IzPDnI"
      }
    },
    {
      "cell_type": "code",
      "source": [
        "print('B[0]:', B[0])\n",
        "A[0] = \"hard rock\"\n",
        "print('B[0]:', B[0])"
      ],
      "metadata": {
        "application/vnd.databricks.v1+cell": {
          "title": "",
          "showTitle": false,
          "inputWidgets": {},
          "nuid": "28e01b74-c2b9-489e-bdcf-2d8dece57bbe"
        },
        "colab": {
          "base_uri": "https://localhost:8080/"
        },
        "id": "D77X3O4cPDnI",
        "outputId": "7e5cb214-50cd-4a06-a926-11dd4f880975"
      },
      "outputs": [
        {
          "output_type": "stream",
          "name": "stdout",
          "text": [
            "B[0]: banana\n",
            "B[0]: banana\n"
          ]
        }
      ],
      "execution_count": 17
    },
    {
      "cell_type": "markdown",
      "source": [
        "<h2 id=\"quiz\">Exámen sobre Listas</h2>"
      ],
      "metadata": {
        "application/vnd.databricks.v1+cell": {
          "title": "",
          "showTitle": false,
          "inputWidgets": {},
          "nuid": "e9517faa-54c0-4502-817d-5a74d2d2f0ce"
        },
        "id": "QzqbKkoGPDnI"
      }
    },
    {
      "cell_type": "markdown",
      "source": [
        "Crea una lista <code>a_lit</code> con los siguientes elementos <code>1</code>, <code>hello</code>, <code>[1,2,3]</code> y <code>True</code>."
      ],
      "metadata": {
        "application/vnd.databricks.v1+cell": {
          "title": "",
          "showTitle": false,
          "inputWidgets": {},
          "nuid": "e959dcb7-8cc6-4dad-ac2a-d90817d8b477"
        },
        "id": "uvbKNZ_DPDnI"
      }
    },
    {
      "cell_type": "code",
      "source": [
        "# Escribe abajo tu código y presiona Shift+Enter para ejecutarlo\n",
        "a_lit = [1, 'hello', [1,2,3], True]\n",
        "a_lit"
      ],
      "metadata": {
        "application/vnd.databricks.v1+cell": {
          "title": "",
          "showTitle": false,
          "inputWidgets": {},
          "nuid": "2b05e525-1c9a-4434-a8eb-9472b237230d"
        },
        "colab": {
          "base_uri": "https://localhost:8080/"
        },
        "id": "co61Zo1qPDnI",
        "outputId": "a6ed8001-282a-4d5a-d768-dc409933af89"
      },
      "outputs": [
        {
          "output_type": "execute_result",
          "data": {
            "text/plain": [
              "[1, 'hello', [1, 2, 3], True]"
            ]
          },
          "metadata": {},
          "execution_count": 22
        }
      ],
      "execution_count": 22
    },
    {
      "cell_type": "markdown",
      "source": [
        "Haz doble click <b>aquí</b> para ver la solución.\n",
        "\n",
        "<!-- Your answer is below:\n",
        "a_list = [1, 'hello', [1, 2, 3] , True]\n",
        "a_list\n",
        "-->"
      ],
      "metadata": {
        "application/vnd.databricks.v1+cell": {
          "title": "",
          "showTitle": false,
          "inputWidgets": {},
          "nuid": "95879e66-3996-45c6-b63d-0ea99cdfd463"
        },
        "id": "l06FB0pQPDnI"
      }
    },
    {
      "cell_type": "markdown",
      "source": [
        "Encuentra el valor almacenado en el índice 1 de <code>a_list</code>."
      ],
      "metadata": {
        "application/vnd.databricks.v1+cell": {
          "title": "",
          "showTitle": false,
          "inputWidgets": {},
          "nuid": "4d33d3b9-bdbe-4cf4-afcd-093f45ec86a8"
        },
        "id": "fRoO1_iNPDnI"
      }
    },
    {
      "cell_type": "code",
      "source": [
        "# Escribe abajo tu código y presiona Shift+Enter para ejecutarlo\n",
        "a_lit[1]"
      ],
      "metadata": {
        "application/vnd.databricks.v1+cell": {
          "title": "",
          "showTitle": false,
          "inputWidgets": {},
          "nuid": "d1eeb457-bca6-4817-8a3d-4acfe46030df"
        },
        "colab": {
          "base_uri": "https://localhost:8080/",
          "height": 35
        },
        "id": "Icb4RVqtPDnI",
        "outputId": "42714578-ec78-4464-f2be-f94facbd1af5"
      },
      "outputs": [
        {
          "output_type": "execute_result",
          "data": {
            "text/plain": [
              "'hello'"
            ],
            "application/vnd.google.colaboratory.intrinsic+json": {
              "type": "string"
            }
          },
          "metadata": {},
          "execution_count": 23
        }
      ],
      "execution_count": 23
    },
    {
      "cell_type": "markdown",
      "source": [
        "Haz doble click <b>aquí</b> para ver la solución.\n",
        "\n",
        "<!-- Your answer is below:\n",
        "a_list[1]\n",
        "-->"
      ],
      "metadata": {
        "application/vnd.databricks.v1+cell": {
          "title": "",
          "showTitle": false,
          "inputWidgets": {},
          "nuid": "fe920fbc-b70b-49ff-a753-68b792627599"
        },
        "id": "8xRB2NNRPDnI"
      }
    },
    {
      "cell_type": "markdown",
      "source": [
        "Obtén el elemento almacenado en el índice 1, 2 y 3 de <code>a_list</code>."
      ],
      "metadata": {
        "application/vnd.databricks.v1+cell": {
          "title": "",
          "showTitle": false,
          "inputWidgets": {},
          "nuid": "2d48cb35-3d90-400e-a747-559646dd5adb"
        },
        "id": "xLv9sPQuPDnJ"
      }
    },
    {
      "cell_type": "code",
      "source": [
        "# Escribe abajo tu código y presiona Shift+Enter para ejecutarlo\n",
        "a_lit[1:4]"
      ],
      "metadata": {
        "application/vnd.databricks.v1+cell": {
          "title": "",
          "showTitle": false,
          "inputWidgets": {},
          "nuid": "ffa9204d-0567-403c-a18e-464daa7af74b"
        },
        "colab": {
          "base_uri": "https://localhost:8080/"
        },
        "id": "TT-0piA8PDnJ",
        "outputId": "8f2ea87c-4140-44c1-8e11-9c463d45b1bb"
      },
      "outputs": [
        {
          "output_type": "execute_result",
          "data": {
            "text/plain": [
              "['hello', [1, 2, 3], True]"
            ]
          },
          "metadata": {},
          "execution_count": 24
        }
      ],
      "execution_count": 24
    },
    {
      "cell_type": "markdown",
      "source": [
        "Haz doble click <b>aquí</b> para ver la solución.\n",
        "\n",
        "<!-- Your answer is below:\n",
        "a_list[1:4]\n",
        "-->"
      ],
      "metadata": {
        "application/vnd.databricks.v1+cell": {
          "title": "",
          "showTitle": false,
          "inputWidgets": {},
          "nuid": "fcb24546-8e9d-4315-8ac3-3b89b98cce6a"
        },
        "id": "p_G0Xw5SPDnJ"
      }
    },
    {
      "cell_type": "markdown",
      "source": [
        "Concatena las siguientes listas <code>A = [1, 'a']</code> y <code>B = [2, 1, 'd']</code>:"
      ],
      "metadata": {
        "application/vnd.databricks.v1+cell": {
          "title": "",
          "showTitle": false,
          "inputWidgets": {},
          "nuid": "eaa4cf31-327b-4378-887b-ba6c61fee135"
        },
        "id": "Xa724t9wPDnJ"
      }
    },
    {
      "cell_type": "code",
      "source": [
        "# Escribe abajo tu código y presiona Shift+Enter para ejecutarlo\n",
        "A = [1, 'a']\n",
        "B = [2, 1, 'd']\n",
        "A + B"
      ],
      "metadata": {
        "collapsed": true,
        "application/vnd.databricks.v1+cell": {
          "title": "",
          "showTitle": false,
          "inputWidgets": {},
          "nuid": "6e9b33eb-9517-4bd5-958d-16da802ebd0e"
        },
        "colab": {
          "base_uri": "https://localhost:8080/"
        },
        "id": "diJjGuxVPDnJ",
        "outputId": "70f52b7d-eb70-4201-b4de-f6ff32421768"
      },
      "outputs": [
        {
          "output_type": "execute_result",
          "data": {
            "text/plain": [
              "[1, 'a', 2, 1, 'd']"
            ]
          },
          "metadata": {},
          "execution_count": 25
        }
      ],
      "execution_count": 25
    },
    {
      "cell_type": "markdown",
      "source": [
        "Haz doble click <b>aquí</b> para ver la solución.\n",
        "\n",
        "<!-- Your answer is below:\n",
        "A = [1, 'a']\n",
        "B = [2, 1, 'd']\n",
        "A + B\n",
        "-->"
      ],
      "metadata": {
        "application/vnd.databricks.v1+cell": {
          "title": "",
          "showTitle": false,
          "inputWidgets": {},
          "nuid": "985490d2-b46a-44fe-80d5-3bf6ee30310d"
        },
        "id": "I4D9RHn5PDnJ"
      }
    }
  ],
  "metadata": {
    "kernelspec": {
      "display_name": "Python 3",
      "language": "python",
      "name": "python3"
    },
    "language_info": {
      "mimetype": "text/x-python",
      "name": "python",
      "pygments_lexer": "ipython3",
      "codemirror_mode": {
        "name": "ipython",
        "version": 3
      },
      "version": "3.8.3",
      "nbconvert_exporter": "python",
      "file_extension": ".py"
    },
    "application/vnd.databricks.v1+notebook": {
      "notebookName": "03-Python-Listas",
      "dashboards": [],
      "notebookMetadata": {
        "pythonIndentUnit": 2
      },
      "language": "python",
      "widgets": {},
      "notebookOrigID": 3296315911137787
    },
    "colab": {
      "provenance": []
    }
  },
  "nbformat": 4,
  "nbformat_minor": 0
}